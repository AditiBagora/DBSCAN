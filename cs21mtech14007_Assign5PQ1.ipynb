{
  "nbformat": 4,
  "nbformat_minor": 0,
  "metadata": {
    "colab": {
      "name": "cs21mtech14007_Assign5PQ1.ipynb",
      "provenance": [],
      "collapsed_sections": []
    },
    "kernelspec": {
      "name": "python3",
      "display_name": "Python 3"
    },
    "language_info": {
      "name": "python"
    }
  },
  "cells": [
    {
      "cell_type": "code",
      "metadata": {
        "id": "Ja36lHiJmBbo"
      },
      "source": [
        "import pandas as pd\n",
        "import numpy as np\n",
        "import matplotlib.pyplot as plt\n",
        "from itertools import cycle, islice\n",
        "import queue"
      ],
      "execution_count": 15,
      "outputs": []
    },
    {
      "cell_type": "markdown",
      "metadata": {
        "id": "ye5Qh7Fq9FtD"
      },
      "source": [
        "1b"
      ]
    },
    {
      "cell_type": "code",
      "metadata": {
        "id": "-WcJ7zUos_Cn"
      },
      "source": [
        "class DBSCAN():\n",
        "    def __init__(self):\n",
        "        self.core_label = -1\n",
        "        self.border_label = -2\n",
        "\n",
        "    # Find all neighbour points at epsilon distance\n",
        "    def get_neighbours(self, data, point_index, epsilon):\n",
        "        neighbours = []\n",
        "        for i in range(len(data)):\n",
        "            # Euclidian distance\n",
        "            if np.linalg.norm(data[i]-data[point_index]) <= epsilon:\n",
        "            #if np.linalg.norm([a_i - b_i for a_i, b_i in zip(data[i], data[pointId])]) <= epsilon:\n",
        "                neighbours.append(i)\n",
        "        return neighbours\n",
        "\n",
        "    # Fit the data into the DBSCAN model\n",
        "    def fit(self, data, Eps, MinPt):\n",
        "        # initialize\n",
        "        self.data=data\n",
        "        pt_label = [0] * len(data)\n",
        "        pt_neighbors = list()\n",
        "        core_pts = list()\n",
        "        border_pts = list()\n",
        "\n",
        "        # Find the neighbours\n",
        "        for i in range(len(data)):\n",
        "            pt_neighbors.append(self.get_neighbours(data, i, Eps))\n",
        "\n",
        "        # Assign Labels\n",
        "        for i in range(len(pt_neighbors)):\n",
        "            if (len(pt_neighbors[i]) >= MinPt):\n",
        "                pt_label[i] = self.core_label\n",
        "                core_pts.append(i)\n",
        "            else:\n",
        "                border_pts.append(i)\n",
        "\n",
        "        for i in border_pts:\n",
        "            for j in pt_neighbors[i]:\n",
        "                if j in core_pts:\n",
        "                    pt_label[i] = self.border_label\n",
        "                    break\n",
        "\n",
        "        # Assign points to a cluster\n",
        "\n",
        "        cluster = 1\n",
        "\n",
        "        for i in range(len(pt_label)):\n",
        "            q = queue.Queue()\n",
        "            #Check if the point is core\n",
        "            if (pt_label[i] == self.core_label):\n",
        "                pt_label[i] = cluster\n",
        "                #All the neighbours of core points will fall in same cluster\n",
        "                for x in pt_neighbors[i]:\n",
        "                    if(pt_label[x] == self.core_label):\n",
        "                        q.put(x)\n",
        "                        pt_label[x] = cluster\n",
        "                    elif(pt_label[x] == self.border_label):\n",
        "                        pt_label[x] = cluster\n",
        "                #Check for neighbour connectivity to core point        \n",
        "                while not q.empty():\n",
        "                    neighbors = pt_neighbors[q.get()]\n",
        "                    for y in neighbors:\n",
        "                        if (pt_label[y] == self.core_label):\n",
        "                            pt_label[y] = cluster\n",
        "                            q.put(y)\n",
        "                        if (pt_label[y] == self.border_label):\n",
        "                            pt_label[y] = cluster\n",
        "                cluster += 1  # Move on to the next cluster\n",
        "        self.labels=np.array(pt_label)\n",
        "        self.num_clusters=cluster\n",
        "        return pt_label, cluster\n",
        "\n",
        "    # Visualize the clusters\n",
        "    def Visualize(self):\n",
        "       plt.scatter(self.data[self.labels == 1, 0], self.data[self.labels == 1, 1], s = 10, c = 'red', label = 'Cluster 1')\n",
        "       plt.scatter(self.data[self.labels == 2, 0], self.data[self.labels == 2, 1], s = 10, c = 'blue', label = 'Cluster 2')\n",
        "       if(self.num_clusters>3):\n",
        "        plt.scatter(self.data[self.labels == 3, 0], self.data[self.labels == 3, 1], s = 10, c = 'green', label = 'Cluster 3')\n",
        "       plt.title('Dataset')\n",
        "       plt.legend()\n",
        "       plt.show()\n",
        "\n"
      ],
      "execution_count": 16,
      "outputs": []
    },
    {
      "cell_type": "code",
      "metadata": {
        "id": "L3x-uzObpKws"
      },
      "source": [
        "dataset1=pd.read_csv('dataset1.txt',header=None,sep='\\s+')\n",
        "dataset2=pd.read_csv('dataset2.txt',header=None,sep='\\s+')"
      ],
      "execution_count": 17,
      "outputs": []
    },
    {
      "cell_type": "code",
      "metadata": {
        "id": "L1fA46rFrtpc"
      },
      "source": [
        "X_dataset1=dataset1.values\n",
        "X_dataset2=dataset2.values"
      ],
      "execution_count": 18,
      "outputs": []
    },
    {
      "cell_type": "markdown",
      "metadata": {
        "id": "vL1KIG68sjy9"
      },
      "source": [
        "Dataset 1"
      ]
    },
    {
      "cell_type": "markdown",
      "metadata": {
        "id": "AJ_nC3mE9IaR"
      },
      "source": [
        "1a"
      ]
    },
    {
      "cell_type": "code",
      "metadata": {
        "id": "IRKZsmp5pqIs"
      },
      "source": [
        "from sklearn.cluster import KMeans\n",
        "kmeans = KMeans(n_clusters = 2, init = 'k-means++', random_state = 42)\n",
        "y_kmeans = kmeans.fit_predict(X_dataset1)"
      ],
      "execution_count": 19,
      "outputs": []
    },
    {
      "cell_type": "code",
      "metadata": {
        "colab": {
          "base_uri": "https://localhost:8080/",
          "height": 281
        },
        "id": "U35iCVbEp4iI",
        "outputId": "4d36b90a-0e76-416d-b8b7-e676394bf981"
      },
      "source": [
        "plt.scatter(X_dataset1[y_kmeans == 0, 0], X_dataset1[y_kmeans == 0, 1], s = 10, c = 'red', label = 'Cluster 1')\n",
        "plt.scatter(X_dataset1[y_kmeans == 1, 0], X_dataset1[y_kmeans == 1, 1], s = 10, c = 'blue', label = 'Cluster 2')\n",
        "plt.title('Dataset1')\n",
        "plt.legend()\n",
        "plt.show()"
      ],
      "execution_count": 20,
      "outputs": [
        {
          "output_type": "display_data",
          "data": {
            "image/png": "[encoded data removed]",
            "text/plain": [
              "<Figure size 432x288 with 1 Axes>"
            ]
          },
          "metadata": {
            "needs_background": "light"
          }
        }
      ]
    },
    {
      "cell_type": "code",
      "metadata": {
        "colab": {
          "base_uri": "https://localhost:8080/",
          "height": 281
        },
        "id": "htbKTCeXzbje",
        "outputId": "0034acb7-1f37-436a-ed06-39d1472c5539"
      },
      "source": [
        "dbscan=DBSCAN()\n",
        "labels,cluster=dbscan.fit(X_dataset1,0.25,4)\n",
        "dbscan.Visualize()"
      ],
      "execution_count": 21,
      "outputs": [
        {
          "output_type": "display_data",
          "data": {
            "image/png": "[encoded data removed]",
            "text/plain": [
              "<Figure size 432x288 with 1 Axes>"
            ]
          },
          "metadata": {
            "needs_background": "light"
          }
        }
      ]
    },
    {
      "cell_type": "markdown",
      "metadata": {
        "id": "2axb49Z28qx4"
      },
      "source": [
        "1c\n",
        "      We can see that DBSCAN is able to cluster the samples better than K-means because of the bias of k-means towards clustering spherical structures even after using K-means ++ it is unable to cluster properly whereas DBSCAN can easily cluster since it works based of density connectivity an since both the structures are not at all connected it can cluster them easily."
      ]
    },
    {
      "cell_type": "markdown",
      "metadata": {
        "id": "czSGYoIfsmUc"
      },
      "source": [
        "Dataset2 "
      ]
    },
    {
      "cell_type": "code",
      "metadata": {
        "id": "BlwzfYT4sEFd"
      },
      "source": [
        "from sklearn.cluster import KMeans\n",
        "kmeans = KMeans(n_clusters = 3, init = 'k-means++', random_state = 42)\n",
        "y_kmeans = kmeans.fit_predict(X_dataset2)"
      ],
      "execution_count": 23,
      "outputs": []
    },
    {
      "cell_type": "code",
      "metadata": {
        "colab": {
          "base_uri": "https://localhost:8080/",
          "height": 281
        },
        "id": "m0ou6ho_stqV",
        "outputId": "86bfd490-a7cb-402d-dc12-43209bf4a835"
      },
      "source": [
        "plt.scatter(X_dataset2[y_kmeans == 0, 0], X_dataset2[y_kmeans == 0, 1], s = 10, c = 'red', label = 'Cluster 1')\n",
        "plt.scatter(X_dataset2[y_kmeans == 1, 0], X_dataset2[y_kmeans == 1, 1], s = 10, c = 'blue', label = 'Cluster 2')\n",
        "plt.scatter(X_dataset2[y_kmeans == 2, 0], X_dataset2[y_kmeans == 2, 1], s = 10, c = 'green', label = 'Cluster 3')\n",
        "\n",
        "plt.title('Dataset2')\n",
        "plt.legend()\n",
        "plt.show()"
      ],
      "execution_count": 24,
      "outputs": [
        {
          "output_type": "display_data",
          "data": {
            "image/png": "[encoded data removed]",
            "text/plain": [
              "<Figure size 432x288 with 1 Axes>"
            ]
          },
          "metadata": {
            "needs_background": "light"
          }
        }
      ]
    },
    {
      "cell_type": "code",
      "metadata": {
        "colab": {
          "base_uri": "https://localhost:8080/",
          "height": 281
        },
        "id": "2p4dCY282cDs",
        "outputId": "c20a02a2-af90-49b7-8f1b-9eb38da1749c"
      },
      "source": [
        "dbscan=DBSCAN()\n",
        "labels,cluster=dbscan.fit(X_dataset2,3,2)\n",
        "dbscan.Visualize()"
      ],
      "execution_count": 25,
      "outputs": [
        {
          "output_type": "display_data",
          "data": {
            "image/png": "[encoded data removed]",
            "text/plain": [
              "<Figure size 432x288 with 1 Axes>"
            ]
          },
          "metadata": {
            "needs_background": "light"
          }
        }
      ]
    },
    {
      "cell_type": "markdown",
      "metadata": {
        "id": "oFqsbFws84xy"
      },
      "source": [
        "1d)\n",
        "If we look at specifically a and b we can see that in first case DBSCAN works better as based on density connectivity it can easily cluster properly whereas in K-means even if the centroid are initialized properly the section where both the curves are closer than other points it is most likely to cluster them as done for dataset 1.But if we look at b we can see that K-means is able to cluster properly even the cluster which is less densely populated it is able to cluster but in DBSCAN the less densely populated cluster became more smaller as DBSCAN is treating other points in that cluster as noise hence for DBSCAN to work properly density of clusters matters it might happen that a cluster that is sparse and less densely populated it can be amused as noise or outlier by DBSCAN\n",
        "\n",
        "K-Means\n",
        "Pros:\n",
        "•\tPerform on large dataset better compared to DBSCAN\n",
        "•\tCan perform on varying density datasets better\n",
        "Cons:\n",
        "•\tClusters formed are more or less spherical or convex in shape and must have same feature size.\n",
        "•\tSensitive to K\n",
        "•\tSensitive to outliers and noise\n",
        "DBSCAN\n",
        " Pros:\n",
        "•\tCan cluster arbitrary shapes and one cluster surrounded by other\n",
        "•\tRobust to outlier detection\n",
        "Cons:\n",
        "•\tSensitive to min-points and epsilon\n",
        "•\tDifficult to cluster having different density and spare with varying density\n",
        "\n"
      ]
    },
    {
      "cell_type": "code",
      "metadata": {
        "id": "ZbuGkm7l5z5L"
      },
      "source": [
        " from sklearn.cluster import DBSCAN\n",
        " import numpy as np\n",
        " clustering = DBSCAN(eps=3, min_samples=2).fit(X_dataset2)"
      ],
      "execution_count": 26,
      "outputs": []
    },
    {
      "cell_type": "code",
      "metadata": {
        "colab": {
          "base_uri": "https://localhost:8080/",
          "height": 281
        },
        "id": "6gZRGzH85800",
        "outputId": "e54651aa-b815-4a65-f08c-b01a66ca85b0"
      },
      "source": [
        "plt.scatter(X_dataset2[clustering.labels_ == 0, 0], X_dataset2[clustering.labels_ == 0, 1], s = 10, c = 'red', label = 'Cluster 1')\n",
        "plt.scatter(X_dataset2[clustering.labels_ == 1, 0], X_dataset2[clustering.labels_ == 1, 1], s = 10, c = 'blue', label = 'Cluster 2')\n",
        "plt.scatter(X_dataset2[clustering.labels_ == 2, 0], X_dataset2[clustering.labels_ == 2, 1], s = 10, c = 'green', label = 'Cluster 3')\n",
        "\n",
        "plt.title('Dataset2')\n",
        "plt.legend()\n",
        "plt.show()"
      ],
      "execution_count": 27,
      "outputs": [
        {
          "output_type": "display_data",
          "data": {
            "image/png": "[encoded data removed]",
            "text/plain": [
              "<Figure size 432x288 with 1 Axes>"
            ]
          },
          "metadata": {
            "needs_background": "light"
          }
        }
      ]
    }
  ]
}